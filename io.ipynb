{
 "cells": [
  {
   "cell_type": "markdown",
   "metadata": {},
   "source": [
    "### python datatypes\n",
    "- int          | -1  10  -20           |\n",
    "- float        | .2  1.3  -2.3  1.5e10 |\n",
    "- bool         |  True  False          |\n",
    "- str          |  'hello' , \"hello\"    |\n",
    "- None type    |   None                |   No value\n",
    "- list         |  [] [1,2,3]           |  similar to array\n",
    "- tuple        |  {} {1,2,3}           |  similar to array \n",
    "- dict         |  {\"a\" : apple}        |  similar to hashmaps"
   ]
  },
  {
   "cell_type": "markdown",
   "metadata": {},
   "source": []
  },
  {
   "cell_type": "code",
   "execution_count": 2,
   "metadata": {},
   "outputs": [
    {
     "name": "stdout",
     "output_type": "stream",
     "text": [
      "Once upon a time\n",
      "There was a monkey\n",
      "sitting on a tree\n",
      "to be continued\n"
     ]
    }
   ],
   "source": [
    "print(\"Once upon a time\")\n",
    "print(\"There was a monkey\")\n",
    "print(\"sitting on a tree\")\n",
    "print(\"to be continued\")"
   ]
  },
  {
   "cell_type": "code",
   "execution_count": 3,
   "metadata": {},
   "outputs": [
    {
     "name": "stdout",
     "output_type": "stream",
     "text": [
      "10 20 200\n",
      "10 * 20 = 200\n"
     ]
    }
   ],
   "source": [
    "a = 10\n",
    "b = 20\n",
    "c = a * b\n",
    "print(a, b, c)\n",
    "print(a, \"*\", b, \"=\", c)"
   ]
  },
  {
   "cell_type": "code",
   "execution_count": 4,
   "metadata": {},
   "outputs": [
    {
     "name": "stdout",
     "output_type": "stream",
     "text": [
      "Hello , I am Apoorvi\n"
     ]
    }
   ],
   "source": [
    "print(\"Hello , I am Apoorvi\")"
   ]
  },
  {
   "cell_type": "code",
   "execution_count": 27,
   "metadata": {},
   "outputs": [
    {
     "name": "stdout",
     "output_type": "stream",
     "text": [
      "Name: Sarah , Age: 16 , Job: SDE 1\n"
     ]
    }
   ],
   "source": [
    "name = 'Sarah'\n",
    "age = 16\n",
    "job = \"SDE 1\"\n",
    "print(\"Name:\",name,\", Age:\", age, \", Job:\", job)"
   ]
  },
  {
   "cell_type": "code",
   "execution_count": 29,
   "metadata": {},
   "outputs": [
    {
     "name": "stdout",
     "output_type": "stream",
     "text": [
      "Name : Sarah\n",
      "Age : 16\n",
      "Job : SDE 1\n"
     ]
    }
   ],
   "source": [
    "print(\"Name :\",name)\n",
    "print(\"Age :\",age)\n",
    "print(\"Job :\",job)\n"
   ]
  },
  {
   "cell_type": "code",
   "execution_count": 25,
   "metadata": {},
   "outputs": [
    {
     "name": "stdout",
     "output_type": "stream",
     "text": [
      "Simple Interest Calculator\n",
      "📱📱📱📱📱📱📱📱📱📱📱\n",
      "principle = 120000\n",
      "rate = 2.5\n",
      "time = 10\n",
      "📱📱📱📱📱📱📱📱📱📱\n",
      "simple interest = 30000.0\n"
     ]
    }
   ],
   "source": [
    "p = 120000\n",
    "r = 2.5\n",
    "t = 10\n",
    "si = p * r * t / 100\n",
    "print(\"Simple Interest Calculator\")\n",
    "print(\"📱\"*11)\n",
    "print(f'principle = {p}')\n",
    "print(f'rate = {r}')\n",
    "print(f'time = {t}')\n",
    "print(\"📱\"*10)\n",
    "print(f'simple interest = {si}')"
   ]
  },
  {
   "cell_type": "code",
   "execution_count": 32,
   "metadata": {},
   "outputs": [
    {
     "name": "stdout",
     "output_type": "stream",
     "text": [
      "Simple Interest Calculator\n",
      "------------------------------\n",
      "principle              120k\n",
      "rate                   2.5%\n",
      "time                    10yr\n",
      "------------------------------\n",
      "simple interest  30.0k\n",
      "------------------------------\n"
     ]
    }
   ],
   "source": [
    "print(\"Simple Interest Calculator\")\n",
    "print(\"-\"*30)\n",
    "print(f'principle  {p//1000:15}k')\n",
    "print(f'rate  {r:20}%')\n",
    "print(f'time  {t:20}yr')\n",
    "print(\"-\"*30)\n",
    "print(f'simple interest  {si/1000:3}k')\n",
    "print(\"-\"*30)"
   ]
  },
  {
   "cell_type": "code",
   "execution_count": 34,
   "metadata": {},
   "outputs": [
    {
     "name": "stdout",
     "output_type": "stream",
     "text": [
      "\n",
      "You may like it but i don't care\n"
     ]
    }
   ],
   "source": [
    "fav_movie = input(\"Plz enter your movie\")\n",
    "print(fav_movie)\n",
    "print(\"You may like it but i don't care\")\n"
   ]
  },
  {
   "cell_type": "code",
   "execution_count": 36,
   "metadata": {},
   "outputs": [
    {
     "name": "stdout",
     "output_type": "stream",
     "text": [
      "Result is\n",
      "12 3412 34\n"
     ]
    }
   ],
   "source": [
    "a = input(\"Enter a number\")\n",
    "b = input(\"Enter a number\")\n",
    "print(\"Result is\")\n",
    "print(a + b)"
   ]
  },
  {
   "cell_type": "code",
   "execution_count": 4,
   "metadata": {},
   "outputs": [
    {
     "name": "stdout",
     "output_type": "stream",
     "text": [
      "5\n"
     ]
    }
   ],
   "source": [
    "a = (input(\"Enter a number\"))\n",
    "b = (input(\"Enter a number\"))\n",
    "a = int(a)\n",
    "b = int(b)\n",
    "type(a)\n",
    "type(b)\n",
    "print(a + b)"
   ]
  },
  {
   "cell_type": "code",
   "execution_count": null,
   "metadata": {},
   "outputs": [],
   "source": []
  }
 ],
 "metadata": {
  "kernelspec": {
   "display_name": "base",
   "language": "python",
   "name": "python3"
  },
  "language_info": {
   "codemirror_mode": {
    "name": "ipython",
    "version": 3
   },
   "file_extension": ".py",
   "mimetype": "text/x-python",
   "name": "python",
   "nbconvert_exporter": "python",
   "pygments_lexer": "ipython3",
   "version": "3.12.4"
  }
 },
 "nbformat": 4,
 "nbformat_minor": 2
}
