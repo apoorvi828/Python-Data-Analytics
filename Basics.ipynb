{
 "cells": [
  {
   "cell_type": "code",
   "execution_count": 5,
   "metadata": {},
   "outputs": [],
   "source": [
    "a = 10\n",
    "b = 20\n",
    "name = \"Apoorvi\"\n",
    "city = \"Lucknow\"\n",
    "\n"
   ]
  },
  {
   "cell_type": "markdown",
   "metadata": {},
   "source": [
    " # operators\n",
    "- arithmetic\n",
    "- assignment\n",
    "- comparison\n",
    "- logical\n",
    "- membership\n",
    "- identity\n"
   ]
  },
  {
   "cell_type": "code",
   "execution_count": 4,
   "metadata": {},
   "outputs": [
    {
     "name": "stdout",
     "output_type": "stream",
     "text": [
      "13\n",
      "7\n",
      "30\n",
      "3.3333333333333335\n",
      "1\n",
      "3\n",
      "1000\n"
     ]
    }
   ],
   "source": [
    "# arithmetic operator\n",
    "# + - * / % // **\n",
    "x = 10\n",
    "y = 3\n",
    "print(x + y)\n",
    "print(x - y)\n",
    "print(x * y)\n",
    "print(x / y)\n",
    "print(x % y) # remainder\n",
    "print(x // y) # floor division\n",
    "print(x ** y) # x to the power of y"
   ]
  },
  {
   "cell_type": "code",
   "execution_count": 5,
   "metadata": {},
   "outputs": [
    {
     "data": {
      "text/plain": [
       "437893890380859375"
      ]
     },
     "execution_count": 5,
     "metadata": {},
     "output_type": "execute_result"
    }
   ],
   "source": [
    "15 ** 15"
   ]
  },
  {
   "cell_type": "code",
   "execution_count": 3,
   "metadata": {},
   "outputs": [
    {
     "name": "stdout",
     "output_type": "stream",
     "text": [
      "100\n",
      "70\n",
      "100\n",
      "200\n",
      "20.0\n",
      "2.0\n",
      "1024.0\n",
      "4.0\n"
     ]
    }
   ],
   "source": [
    "# assignment operator\n",
    "# = += -= *= /= %= //= **=\n",
    "a = 40 # basic assignment oprator\n",
    "b = 30\n",
    "a = a + b\n",
    "# arithmetic assignment operators\n",
    "a += b\n",
    "print(a)\n",
    "a -= b\n",
    "print(a)\n",
    "c = a + b\n",
    "print(c)\n",
    "x = 20\n",
    "y = 10\n",
    "x *= y\n",
    "print(x)\n",
    "x /= y\n",
    "print(x)\n",
    "x //= y\n",
    "print(x)\n",
    "x **= y\n",
    "print(x)\n",
    "x %= y\n",
    "print(x)\n",
    "\n",
    "\n"
   ]
  },
  {
   "cell_type": "code",
   "execution_count": 5,
   "metadata": {},
   "outputs": [
    {
     "name": "stdout",
     "output_type": "stream",
     "text": [
      "False\n",
      "True\n",
      "False\n",
      "True\n",
      "True\n",
      "False\n"
     ]
    }
   ],
   "source": [
    "# comparison operators\n",
    "# > < >= <= != ==\n",
    "a = 50\n",
    "b = 60\n",
    "print(a > b)\n",
    "print(a < b)\n",
    "print(a >= b)\n",
    "print(a <= b)\n",
    "print(a != b)\n",
    "print(a == b)"
   ]
  },
  {
   "cell_type": "code",
   "execution_count": 10,
   "metadata": {},
   "outputs": [
    {
     "name": "stdout",
     "output_type": "stream",
     "text": [
      "False\n",
      "True\n",
      "True\n",
      "True\n",
      "False\n",
      "True\n"
     ]
    }
   ],
   "source": [
    "# logical operators\n",
    "# and or not\n",
    "print(a > b and a < b)\n",
    "print(a > b or a < b)\n",
    "print(a > 2 and a < b)\n",
    "print(a > 2 or a < b)\n",
    "print(not a > 2)\n",
    "print(not(a > b and a < b))"
   ]
  },
  {
   "cell_type": "code",
   "execution_count": 4,
   "metadata": {},
   "outputs": [
    {
     "name": "stdout",
     "output_type": "stream",
     "text": [
      "False\n",
      "False\n",
      "True\n",
      "True\n",
      "True\n",
      "False\n",
      "True\n"
     ]
    }
   ],
   "source": [
    "# membership operators\n",
    "# in not in\n",
    "name = \"Alexis\"\n",
    "print(\"h\" in name)\n",
    "print(\"a\" in name)\n",
    "print(\"A\" in name)\n",
    "print(\"x\" in name)\n",
    "nums = [10, 20, 30, 40, 50]\n",
    "print(10 in nums)\n",
    "print(100 in nums)\n",
    "print(200 not in nums)"
   ]
  },
  {
   "cell_type": "code",
   "execution_count": 6,
   "metadata": {},
   "outputs": [
    {
     "name": "stdout",
     "output_type": "stream",
     "text": [
      "True\n",
      "False\n"
     ]
    }
   ],
   "source": [
    "# is (identity operator)\n",
    "x = 10\n",
    "y = 10\n",
    "print(x is y)\n",
    "\n",
    "nums = [10, 20, 30]\n",
    "nums2 = nums.copy()\n",
    "print(nums is nums2)"
   ]
  },
  {
   "cell_type": "code",
   "execution_count": null,
   "metadata": {},
   "outputs": [],
   "source": []
  }
 ],
 "metadata": {
  "kernelspec": {
   "display_name": "base",
   "language": "python",
   "name": "python3"
  },
  "language_info": {
   "codemirror_mode": {
    "name": "ipython",
    "version": 3
   },
   "file_extension": ".py",
   "mimetype": "text/x-python",
   "name": "python",
   "nbconvert_exporter": "python",
   "pygments_lexer": "ipython3",
   "version": "3.12.4"
  }
 },
 "nbformat": 4,
 "nbformat_minor": 2
}
