{
 "cells": [
  {
   "cell_type": "markdown",
   "metadata": {},
   "source": [
    "# pre-defined functions\n",
    "- built-in functions *print(),input(),len(),type(),int(),sum()\n",
    "- module based functions\n",
    "   - local modules\n",
    "   - math \n",
    "   - datetime\n",
    "   - os\n",
    "   - turtle\n",
    "   - random\n",
    "- 3rd party modules\n",
    "- numpy\n",
    "- pandas\n",
    "- matplotlib\n",
    "- dputis\n",
    "- user defined functions\n",
    "- function with return values\n",
    "- non-parameterized functions\n",
    "- parameterized functuons\n",
    "- variable args\n",
    "- keyvalue variable args\n",
    "- lambda \n",
    "- map and filter"
   ]
  },
  {
   "cell_type": "code",
   "execution_count": 70,
   "metadata": {},
   "outputs": [],
   "source": [
    "# MODULES BASED FUNCTIONS\n",
    "import math"
   ]
  },
  {
   "cell_type": "code",
   "execution_count": 71,
   "metadata": {},
   "outputs": [
    {
     "data": {
      "text/plain": [
       "3.141592653589793"
      ]
     },
     "execution_count": 71,
     "metadata": {},
     "output_type": "execute_result"
    }
   ],
   "source": [
    "math.pi"
   ]
  },
  {
   "cell_type": "code",
   "execution_count": 72,
   "metadata": {},
   "outputs": [
    {
     "data": {
      "text/plain": [
       "51090942171709440000"
      ]
     },
     "execution_count": 72,
     "metadata": {},
     "output_type": "execute_result"
    }
   ],
   "source": [
    "math.factorial(21)"
   ]
  },
  {
   "cell_type": "code",
   "execution_count": 73,
   "metadata": {},
   "outputs": [
    {
     "data": {
      "text/plain": [
       "-0.5440211108893698"
      ]
     },
     "execution_count": 73,
     "metadata": {},
     "output_type": "execute_result"
    }
   ],
   "source": [
    "math.sin(10)"
   ]
  },
  {
   "cell_type": "code",
   "execution_count": 74,
   "metadata": {},
   "outputs": [
    {
     "data": {
      "text/plain": [
       "3"
      ]
     },
     "execution_count": 74,
     "metadata": {},
     "output_type": "execute_result"
    }
   ],
   "source": [
    "math.floor(3.125895)"
   ]
  },
  {
   "cell_type": "code",
   "execution_count": 75,
   "metadata": {},
   "outputs": [
    {
     "data": {
      "text/plain": [
       "4"
      ]
     },
     "execution_count": 75,
     "metadata": {},
     "output_type": "execute_result"
    }
   ],
   "source": [
    "math.ceil(3.129)"
   ]
  },
  {
   "cell_type": "code",
   "execution_count": 76,
   "metadata": {},
   "outputs": [
    {
     "data": {
      "text/plain": [
       "2.695"
      ]
     },
     "execution_count": 76,
     "metadata": {},
     "output_type": "execute_result"
    }
   ],
   "source": [
    "math.fabs(2.695)"
   ]
  },
  {
   "cell_type": "code",
   "execution_count": 77,
   "metadata": {},
   "outputs": [],
   "source": [
    "from random import choice, randint"
   ]
  },
  {
   "cell_type": "code",
   "execution_count": 78,
   "metadata": {},
   "outputs": [
    {
     "name": "stdout",
     "output_type": "stream",
     "text": [
      "\u001b[1;31mSignature:\u001b[0m \u001b[0mchoice\u001b[0m\u001b[1;33m(\u001b[0m\u001b[0mseq\u001b[0m\u001b[1;33m)\u001b[0m\u001b[1;33m\u001b[0m\u001b[1;33m\u001b[0m\u001b[0m\n",
      "\u001b[1;31mDocstring:\u001b[0m Choose a random element from a non-empty sequence.\n",
      "\u001b[1;31mFile:\u001b[0m      c:\\users\\tannu singh\\miniconda3\\lib\\random.py\n",
      "\u001b[1;31mType:\u001b[0m      method"
     ]
    }
   ],
   "source": [
    "choice?"
   ]
  },
  {
   "cell_type": "code",
   "execution_count": 79,
   "metadata": {},
   "outputs": [
    {
     "name": "stdout",
     "output_type": "stream",
     "text": [
      "['🐧', '🐼', '🦚', '🐎', '🐟', '🦄', '🐰', '🐯']\n",
      "Your emoji is:\n",
      "🐟\n"
     ]
    }
   ],
   "source": [
    "data = ['🐧','🐼','🦚','🐎','🐟','🦄','🐰','🐯']\n",
    "print(data)\n",
    "print(\"Your emoji is:\")\n",
    "print(choice(data))"
   ]
  },
  {
   "cell_type": "code",
   "execution_count": 80,
   "metadata": {},
   "outputs": [
    {
     "name": "stdout",
     "output_type": "stream",
     "text": [
      "5\n"
     ]
    }
   ],
   "source": [
    "print(randint(1,8))"
   ]
  },
  {
   "cell_type": "code",
   "execution_count": 81,
   "metadata": {},
   "outputs": [
    {
     "name": "stdout",
     "output_type": "stream",
     "text": [
      "🐟 🐼 🦄 🐰 🐯 🐧 🐎\n",
      "🐯 🦄 🦄 🐯 🐎 🐧 🐟\n"
     ]
    }
   ],
   "source": [
    "from random import sample, choices\n",
    "out= sample(data,7)\n",
    "print(*out) # here is a trick to unpack\n",
    "out2= choices(data, k=7) \n",
    "print(*out2) "
   ]
  },
  {
   "cell_type": "code",
   "execution_count": 82,
   "metadata": {},
   "outputs": [],
   "source": [
    "from datetime import datetime\n"
   ]
  },
  {
   "cell_type": "code",
   "execution_count": 83,
   "metadata": {},
   "outputs": [
    {
     "name": "stdout",
     "output_type": "stream",
     "text": [
      "2024-07-27 12:10:45.204651\n"
     ]
    }
   ],
   "source": [
    "print(datetime.now())"
   ]
  },
  {
   "cell_type": "code",
   "execution_count": 84,
   "metadata": {},
   "outputs": [
    {
     "name": "stdout",
     "output_type": "stream",
     "text": [
      "2024-07-27\n",
      "2024-07-27\n",
      "2024-07-27 12:10:45.245077\n",
      "27/07/24\n"
     ]
    }
   ],
   "source": [
    "# Date\n",
    "date= datetime.date(datetime.now())\n",
    "print(date) \n",
    "time = datetime.time(datetime.now())\n",
    "print(date)\n",
    "now = datetime.now()\n",
    "print(now)\n",
    "formatted = now.strftime(\"%d/%m/%y\")\n",
    "print(formatted)"
   ]
  },
  {
   "cell_type": "code",
   "execution_count": 85,
   "metadata": {},
   "outputs": [],
   "source": [
    "import os"
   ]
  },
  {
   "cell_type": "code",
   "execution_count": 86,
   "metadata": {},
   "outputs": [
    {
     "name": "stdout",
     "output_type": "stream",
     "text": [
      "current location\n",
      "c:\\Users\\Tannu Singh\\OneDrive\\Documents\\Python Data Analytics\n"
     ]
    }
   ],
   "source": [
    "print('current location')\n",
    "print(os.getcwd())"
   ]
  },
  {
   "cell_type": "code",
   "execution_count": 87,
   "metadata": {},
   "outputs": [
    {
     "name": "stdout",
     "output_type": "stream",
     "text": [
      "list all files\n",
      ": .git\n",
      ": a\n",
      ": Basics 1.ipynb\n",
      ": conditions 3.ipynb\n",
      ": Dictionary 8.ipynb\n",
      ": functions 9.ipynb\n",
      ": io 2.ipynb\n",
      ": list 5.ipynb\n",
      ": loops 4.ipynb\n",
      ": pattern1.py\n",
      ": pattern2.py\n",
      ": patternhw10.py\n",
      ": patternhw11.py\n",
      ": patternhw12.py\n",
      ": patternhw3.py\n",
      ": patternhw4.py\n",
      ": patternhw5.py\n",
      ": patternhw6.py\n",
      ": patternhw7.py\n",
      ": patternhw8.py\n",
      ": patternhw9.py\n",
      ": Sets 7.ipynb\n",
      ": string 6.ipynb\n"
     ]
    }
   ],
   "source": [
    "print (\"list all files\")\n",
    "content = os.listdir()\n",
    "for item in content:\n",
    "    print(f\": {item}\")"
   ]
  },
  {
   "cell_type": "code",
   "execution_count": 88,
   "metadata": {},
   "outputs": [
    {
     "name": "stdout",
     "output_type": "stream",
     "text": [
      ":📂Acer\n",
      ":📂AMD\n",
      ":📂Common Files\n",
      ":📂desktop.ini\n",
      ":📂DriverSetupUtility\n",
      ":📂Git\n",
      ":📂Google\n",
      ":📂Internet Explorer\n",
      ":📂Java\n",
      ":📂Microsoft\n",
      ":📂Microsoft Office\n",
      ":📂Microsoft Office 15\n",
      ":📂Microsoft OneDrive\n",
      ":📂Microsoft Power BI Desktop\n",
      ":📂Microsoft Update Health Tools\n",
      ":📂ModifiableWindowsApps\n",
      ":📂Mozilla Firefox\n",
      ":📂MSBuild\n",
      ":📂MySQL\n",
      ":📂Reference Assemblies\n",
      ":📂StarUML\n",
      ":📂Uninstall Information\n",
      ":📂Windows Defender\n",
      ":📂Windows Mail\n",
      ":📂Windows Media Player\n",
      ":📂Windows NT\n",
      ":📂Windows Photo Viewer\n",
      ":📂Windows Sidebar\n",
      ":📂WindowsApps\n",
      ":📂WindowsPowerShell\n"
     ]
    }
   ],
   "source": [
    "content = os.listdir(\"C:/Program Files\")\n",
    "for item in content:\n",
    "    path = f\"C:/Progarm Files/{item}\"\n",
    "    is_file = os.path.isfile(path)\n",
    "    if is_file:\n",
    "        print(f\":{item}\")\n",
    "    else:\n",
    "        print(f\":📂{item}\")"
   ]
  },
  {
   "cell_type": "code",
   "execution_count": 89,
   "metadata": {},
   "outputs": [],
   "source": [
    "os.makedirs(\"a/b/c\", exist_ok=True)"
   ]
  },
  {
   "cell_type": "code",
   "execution_count": 90,
   "metadata": {},
   "outputs": [],
   "source": [
    "os.makedirs(\"C:/important/work\", exist_ok=True)"
   ]
  },
  {
   "cell_type": "markdown",
   "metadata": {},
   "source": [
    "# User defined functions\n",
    "### state 1: define a function (create)\n",
    "''''python\n",
    "def fun_name([params...]):\n",
    "    statements\n",
    "    ...\n",
    "    [return value]\n",
    "\n",
    "\n",
    "### state 2: call the function (use)\n",
    "\n",
    "fun_name([args...])"
   ]
  },
  {
   "cell_type": "code",
   "execution_count": 91,
   "metadata": {},
   "outputs": [],
   "source": [
    "def adder():\n",
    "    a = int(input(\"Enter a number: \"))\n",
    "    b = int(input(\"Enter another number: \"))\n",
    "    total = a + b\n",
    "    print(total)"
   ]
  },
  {
   "cell_type": "code",
   "execution_count": 92,
   "metadata": {},
   "outputs": [
    {
     "name": "stdout",
     "output_type": "stream",
     "text": [
      "6\n",
      "8\n"
     ]
    }
   ],
   "source": [
    "adder() # with round brackets it means we want to execute the function\n",
    "adder()"
   ]
  },
  {
   "cell_type": "code",
   "execution_count": 100,
   "metadata": {},
   "outputs": [],
   "source": [
    "def adder(a,b): # here we pass parameters\n",
    "    total = a + b\n",
    "    return total"
   ]
  },
  {
   "cell_type": "code",
   "execution_count": 94,
   "metadata": {},
   "outputs": [
    {
     "name": "stdout",
     "output_type": "stream",
     "text": [
      "22\n"
     ]
    }
   ],
   "source": [
    "adder(10, 12) # here we pass arguments"
   ]
  },
  {
   "cell_type": "code",
   "execution_count": 95,
   "metadata": {},
   "outputs": [
    {
     "name": "stdout",
     "output_type": "stream",
     "text": [
      "577\n"
     ]
    }
   ],
   "source": [
    "x = 123\n",
    "y = 454  \n",
    "adder(x, y)"
   ]
  },
  {
   "cell_type": "code",
   "execution_count": 102,
   "metadata": {},
   "outputs": [],
   "source": [
    "# simple interest\n",
    "def interest(p, r, t):\n",
    "    simple_interest = p*r*t/100\n",
    "    amount = p+simple_interest\n",
    "    return simple_interest\n",
    "    return amount"
   ]
  },
  {
   "cell_type": "code",
   "execution_count": 97,
   "metadata": {},
   "outputs": [
    {
     "name": "stdout",
     "output_type": "stream",
     "text": [
      "204.0\n",
      "3604.0\n"
     ]
    }
   ],
   "source": [
    "p = 3400\n",
    "r = 2\n",
    "t = 3\n",
    "interest(p, r, t)"
   ]
  },
  {
   "cell_type": "code",
   "execution_count": 101,
   "metadata": {},
   "outputs": [],
   "source": [
    "def area(r):\n",
    "    sphere_area = 4*pi*r*r\n",
    "    return sphere_area"
   ]
  },
  {
   "cell_type": "code",
   "execution_count": 99,
   "metadata": {},
   "outputs": [
    {
     "name": "stdout",
     "output_type": "stream",
     "text": [
      "50.24\n"
     ]
    }
   ],
   "source": [
    "pi = 3.14\n",
    "r = 2\n",
    "area(r)"
   ]
  },
  {
   "cell_type": "code",
   "execution_count": 104,
   "metadata": {},
   "outputs": [
    {
     "name": "stdout",
     "output_type": "stream",
     "text": [
      "21\n",
      "5538.96\n"
     ]
    }
   ],
   "source": [
    "ans = adder(15,6)\n",
    "print(ans)\n",
    "result = area(ans)\n",
    "print(result)"
   ]
  },
  {
   "cell_type": "code",
   "execution_count": 108,
   "metadata": {},
   "outputs": [
    {
     "name": "stdout",
     "output_type": "stream",
     "text": [
      "4\n",
      "Total words: 9\n"
     ]
    }
   ],
   "source": [
    "def word_count(sentence):\n",
    "    words = sentence.split()\n",
    "    return len(words)\n",
    "\n",
    "sentence = \"I am a student\"\n",
    "print(word_count(sentence))\n",
    "\n",
    "sentence = \"This is a long sentence with many words, okay\"\n",
    "size = word_count(sentence)\n",
    "print(f'Total words: {size}')"
   ]
  },
  {
   "cell_type": "code",
   "execution_count": null,
   "metadata": {},
   "outputs": [],
   "source": []
  }
 ],
 "metadata": {
  "kernelspec": {
   "display_name": "base",
   "language": "python",
   "name": "python3"
  },
  "language_info": {
   "codemirror_mode": {
    "name": "ipython",
    "version": 3
   },
   "file_extension": ".py",
   "mimetype": "text/x-python",
   "name": "python",
   "nbconvert_exporter": "python",
   "pygments_lexer": "ipython3",
   "version": "3.12.4"
  }
 },
 "nbformat": 4,
 "nbformat_minor": 2
}
